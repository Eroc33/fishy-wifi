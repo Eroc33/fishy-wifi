{
 "cells": [
  {
   "cell_type": "code",
   "execution_count": 20,
   "metadata": {
    "collapsed": false
   },
   "outputs": [
    {
     "name": "stdout",
     "output_type": "stream",
     "text": [
      "../../wegrow-data/WaterElf-10878526/2016-06-29_WaterElf-10878526.txt\n",
      "../../wegrow-data/WaterElf-10878526/2016-06-26_WaterElf-10878526.txt\n",
      "../../wegrow-data/WaterElf-10878526/2016-06-25_WaterElf-10878526.txt\n",
      "../../wegrow-data/WaterElf-10878526/2016-06-30_WaterElf-10878526.txt\n",
      "../../wegrow-data/WaterElf-10878526/2016-06-28_WaterElf-10878526.txt\n",
      "../../wegrow-data/WaterElf-10878526/2016-06-27_WaterElf-10878526.txt\n",
      "../../wegrow-data/WaterElf-10878526/2016-06-24_WaterElf-10878526.txt\n",
      "../../wegrow-data/WaterElf-10865861/2016-06-23_WaterElf-10865861.txt\n"
     ]
    }
   ],
   "source": [
    "import numpy as np\n",
    "%matplotlib inline\n",
    "import matplotlib.pyplot as plt\n",
    "from json import loads\n",
    "import os\n",
    "import glob\n",
    "\n",
    "\n",
    "def plot(dimension):\n",
    "    datadir = '../../wegrow-data'    \n",
    "    for elfdir in glob.glob(os.path.join(datadir, '*')):\n",
    "        for datafile in glob.glob(os.path.join(elfdir, '*.txt')):\n",
    "            print(datafile)\n",
    "\n",
    "plot(\"waterLevel1\")"
   ]
  }
 ],
 "metadata": {
  "kernelspec": {
   "display_name": "Python 3",
   "language": "python",
   "name": "python3"
  },
  "language_info": {
   "codemirror_mode": {
    "name": "ipython",
    "version": 3
   },
   "file_extension": ".py",
   "mimetype": "text/x-python",
   "name": "python",
   "nbconvert_exporter": "python",
   "pygments_lexer": "ipython3",
   "version": "3.5.1"
  }
 },
 "nbformat": 4,
 "nbformat_minor": 0
}
