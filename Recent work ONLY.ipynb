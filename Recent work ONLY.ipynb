{
 "cells": [
  {
   "cell_type": "code",
   "execution_count": 1,
   "metadata": {
    "collapsed": true
   },
   "outputs": [],
   "source": [
    "import numpy as np\n",
    "%matplotlib inline\n",
    "import matplotlib.pyplot as plt\n",
    "from json import loads\n",
    "import os\n",
    "import glob\n",
    "import datetime\n",
    "import re"
   ]
  },
  {
   "cell_type": "code",
   "execution_count": 28,
   "metadata": {
    "collapsed": false
   },
   "outputs": [
    {
     "data": {
      "image/png": "[encoded data removed]",
      "text/plain": [
       "<matplotlib.figure.Figure at 0x71892e8>"
      ]
     },
     "metadata": {},
     "output_type": "display_data"
    }
   ],
   "source": [
    "def get_points(x, y ,d):\n",
    "    path = 'old-stuff/fishy-wifi-master/wegrow-web/wegrow-data1/wegrow-data/WaterElf-10878526'\n",
    "    chosen_file = [i for i in os.listdir(path) if os.path.isfile(os.path.join(path,i)) and d in i]\n",
    "    for filename in chosen_file:\n",
    "        #print(filename)\n",
    "        data={}\n",
    "        with open(os.path.join(path, filename),'r') as f:\n",
    "            \n",
    "            for line in f:\n",
    "                new_dict = loads(line.strip())\n",
    "                for k in new_dict:\n",
    "                    if k in data:\n",
    "                        data[k].append(float(new_dict[k]))\n",
    "                    else:\n",
    "                        data[k] = [float(new_dict[k])]\n",
    "\n",
    "        #array = np.array([data[x], data[y]])\n",
    "        if len(data[x]) != len(data[y]):\n",
    "                print ('Unable to produce graph!')\n",
    "                continue\n",
    "        if x == 'timestamp':\n",
    "            timestamp = data[x]\n",
    "            date = re.search(\"([0-9]{4}\\-[0-9]{2}\\-[0-9]{2})\", filename)\n",
    "            #print (date)\n",
    "            x = date.group(0)\n",
    "            year = x[0:4]\n",
    "            month = x[5:7]\n",
    "            day = x[8:10]\n",
    "            fileStartDate = datetime.datetime(int(year),int(month),int(day),0,0)\n",
    "            #print(\"file starts at: \" + str(fileStartDate))\n",
    "            startTimeStamp = timestamp[0]\n",
    "            #print (startTimeStamp)\n",
    "\n",
    "            increment = 0\n",
    "            previous = 0\n",
    "            timeAtT_list = []\n",
    "            for index,times in enumerate(timestamp):\n",
    "                if timestamp[index-1] > timestamp[index] and increment==0 and index!=0:   \n",
    "                    increment = timestamp[index-1]\n",
    "                    previous += increment                                             \n",
    "                times += previous                \n",
    "                delta = datetime.timedelta(0, (times - startTimeStamp) / 1000)\n",
    "                timeAtT = delta\n",
    "                #total_sec is required since need to put float into empty list,but any better way?This doesnt show accurate time\n",
    "                timeAtT_float = timeAtT.total_seconds()\n",
    "                timeAtT_exacttime_float = timeAtT_float/3600\n",
    "                timeAtT_list.append(timeAtT_exacttime_float)\n",
    "            timestamp = timeAtT_list\n",
    "            data[x]=timestamp\n",
    "            \n",
    "            #print (data[x])\n",
    "            \n",
    "        #print(\"time at t=\" + str(times) + \" is: \" + str(timeAtT))  \n",
    "        #plt.plot(array[0], array[1],label=y)\n",
    "        plt.plot(data[x],data[y],label=y)\n",
    "        plt.xlabel(x)\n",
    "        plt.ylabel(y)\n",
    "        xticks = np.arange(0,25,2)\n",
    "        plt.xticks(xticks)\n",
    "        plt.legend(loc='best')\n",
    "        plt.show()\n",
    "    \n",
    "get_points('timestamp', 'airTemp','06-26')"
   ]
  },
  {
   "cell_type": "code",
   "execution_count": null,
   "metadata": {
    "collapsed": true
   },
   "outputs": [],
   "source": []
  }
 ],
 "metadata": {
  "kernelspec": {
   "display_name": "Python 3",
   "language": "python",
   "name": "python3"
  },
  "language_info": {
   "codemirror_mode": {
    "name": "ipython",
    "version": 3
   },
   "file_extension": ".py",
   "mimetype": "text/x-python",
   "name": "python",
   "nbconvert_exporter": "python",
   "pygments_lexer": "ipython3",
   "version": "3.4.3"
  }
 },
 "nbformat": 4,
 "nbformat_minor": 0
}
